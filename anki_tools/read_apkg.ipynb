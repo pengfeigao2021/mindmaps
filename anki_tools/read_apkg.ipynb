{
 "cells": [
  {
   "cell_type": "code",
   "execution_count": 12,
   "metadata": {},
   "outputs": [
    {
     "name": "stdout",
     "output_type": "stream",
     "text": [
      "Decks in collection:\n",
      "Deck ID: 1724697185678, Name: ivl10\n",
      "Deck ID: 1, Name: Default\n",
      "['__annotations__', '__class__', '__delattr__', '__dict__', '__dir__', '__doc__', '__eq__', '__format__', '__ge__', '__getattr__', '__getattribute__', '__gt__', '__hash__', '__init__', '__init_subclass__', '__le__', '__lt__', '__module__', '__ne__', '__new__', '__reduce__', '__reduce_ex__', '__repr__', '__setattr__', '__sizeof__', '__str__', '__subclasshook__', '__weakref__', '_backend', '_build_sort_mode', '_check_backend_undo_status', '_clear_caches', '_deprecated_aliases', '_deprecated_attributes', '_load_scheduler', '_logRem', '_pb_search_separator', '_remNotes', '_startReps', '_supported_scheduler_versions', 'abort_media_sync', 'abort_sync', 'addNote', 'add_custom_undo_entry', 'add_image_occlusion_note', 'add_image_occlusion_notetype', 'add_note', 'add_notes', 'after_note_updates', 'all_browser_columns', 'all_config', 'autosave', 'await_backup_completion', 'backend', 'browser_row_for_id', 'build_search_string', 'cardStats', 'card_count', 'card_ids_of_note', 'card_stats', 'card_stats_data', 'close', 'close_for_full_sync', 'compare_answer', 'compute_memory_state', 'conf', 'create_backup', 'crt', 'db', 'decks', 'default_deck_for_notetype', 'defaults_for_adding', 'emptyCids', 'export_anki_package', 'export_card_csv', 'export_collection_package', 'export_note_csv', 'extract_cloze_for_typing', 'field_names_for_note_ids', 'find_and_replace', 'find_cards', 'find_dupes', 'find_notes', 'fix_integrity', 'flush', 'format_timespan', 'full_upload_or_download', 'fuzz_delta', 'genCards', 'get_aux_notetype_config', 'get_aux_template_config', 'get_browser_column', 'get_card', 'get_config', 'get_config_bool', 'get_config_string', 'get_csv_metadata', 'get_empty_cards', 'get_image_for_occlusion', 'get_image_occlusion_note', 'get_note', 'get_preferences', 'group_searches', 'i18n_resources', 'import_anki_package', 'import_csv', 'import_json_file', 'import_json_string', 'initialize_backend_logging', 'is_empty', 'join_searches', 'latest_progress', 'load_browser_card_columns', 'load_browser_note_columns', 'log', 'media', 'media_sync_status', 'merge_undo_entries', 'mod', 'mod_schema', 'models', 'name', 'newNote', 'new_note', 'nextID', 'note_count', 'op_made_changes', 'optimize', 'path', 'redo', 'register_deprecated_aliases', 'register_deprecated_attributes', 'remNotes', 'remove_cards_and_orphaned_notes', 'remove_config', 'remove_notes', 'remove_notes_by_card', 'render_markdown', 'reopen', 'replace_in_search_node', 'reset', 'save', 'sched', 'sched_ver', 'schema_changed', 'server', 'setMod', 'set_aux_notetype_config', 'set_aux_template_config', 'set_browser_card_columns', 'set_browser_note_columns', 'set_config', 'set_config_bool', 'set_config_string', 'set_deck', 'set_preferences', 'set_schema_modified', 'set_user_flag_for_cards', 'set_v3_scheduler', 'set_wants_abort', 'startTimebox', 'stats', 'studied_today', 'sync_collection', 'sync_login', 'sync_media', 'sync_status', 'tags', 'timeboxReached', 'tr', 'undo', 'undo_name', 'undo_status', 'updateFieldCache', 'update_card', 'update_cards', 'update_image_occlusion_note', 'update_note', 'update_notes', 'upgrade_to_v2_scheduler', 'usn', 'v3_scheduler', 'weakref']\n",
      "total card count:  657\n",
      "\u001b[32mquery is:due and prop:ivl<=2 find 12 cards\u001b[0m\n"
     ]
    },
    {
     "name": "stderr",
     "output_type": "stream",
     "text": [
      "100%|██████████| 12/12 [00:00<00:00, 183.37it/s]"
     ]
    },
    {
     "name": "stdout",
     "output_type": "stream",
     "text": [
      "8\n",
      "8\n",
      "8\n",
      "8\n",
      "8\n",
      "8\n",
      "8\n",
      "8\n",
      "8\n",
      "8\n",
      "8\n",
      "8\n"
     ]
    },
    {
     "name": "stderr",
     "output_type": "stream",
     "text": [
      "\n"
     ]
    }
   ],
   "source": [
    "# read sqlite3\n",
    "import sqlite3\n",
    "import anki\n",
    "from anki.collection import Collection\n",
    "import os\n",
    "import zipfile\n",
    "import termcolor\n",
    "import tqdm\n",
    "# import pandas as pd\n",
    "\n",
    "PKG_PATH = '/Users/AlexG/Downloads/ivl10.apkg'\n",
    "ANKI2_PATH = '/Users/AlexG/Downloads/ivl10-decompress/collection.anki2'\n",
    "ANKI21_PATH = '/Users/AlexG/Downloads/ivl10-decompress/collection.anki21'\n",
    "outdir = '/Users/AlexG/Downloads/ivl10-decompress'\n",
    "\n",
    "def unzip_anki(pkg_file_path, outdir):\n",
    "    # Create the extract directory if it doesn't exist\n",
    "    os.makedirs(outdir, exist_ok=True)\n",
    "\n",
    "    # Unzip the .apkg file\n",
    "    with zipfile.ZipFile(PKG_PATH, 'r') as zip_ref:\n",
    "        zip_ref.extractall(outdir)\n",
    "\n",
    "    print(f\"Extracted files to {outdir}\")\n",
    "\n",
    "def format_cards_to_html(cards, collection, outpath):\n",
    "    data = []\n",
    "    for cid in tqdm.tqdm(cards):\n",
    "        card = collection.get_card(cid)\n",
    "        note = card.note()\n",
    "        fields = note.fields\n",
    "        data.append(fields)\n",
    "        print(len(fields))\n",
    "    rows = ['<tr><td>{}</td><td>{}</td></tr>'.format(fi, '</td><td>'.join(field[:3])) for fi, field in enumerate(data)]\n",
    "    html = f'''\n",
    "    <head>\n",
    "        <style>\n",
    "            table {{\n",
    "                --color: #d0d0f5;\n",
    "            }}\n",
    "\n",
    "            thead,\n",
    "            tfoot {{\n",
    "                background: var(--color);\n",
    "            }}\n",
    "\n",
    "            tbody tr:nth-child(even) {{\n",
    "                background: color-mix(in srgb, var(--color), transparent 60%);\n",
    "            }}\n",
    "        </style>\n",
    "    </head>\n",
    "    <body>\n",
    "        <table>\n",
    "          {\"\".join(rows)}\n",
    "        </table>\n",
    "    </body>\n",
    "    '''\n",
    "    with open(outpath, 'w') as f:\n",
    "        f.write(html)\n",
    "\n",
    "\n",
    "# with Collection(ANKI2_PATH) as col:\n",
    "col = Collection(ANKI21_PATH)\n",
    "# Fetch all decks in the collection\n",
    "decks = col.decks.all()\n",
    "print(\"Decks in collection:\")\n",
    "for deck in decks:\n",
    "    print(f\"Deck ID: {deck['id']}, Name: {deck['name']}\")\n",
    "\n",
    "try:\n",
    "    print(dir(col))\n",
    "    print('total card count: ', col.card_count())\n",
    "    # print('note count: ', col.node_count())\n",
    "\n",
    "    query = 'is:due and prop:ivl<=2'\n",
    "    cards = col.find_cards(query)\n",
    "    print(termcolor.colored(f'query {query} find {len(cards)} cards', 'green'))\n",
    "\n",
    "    outpath = os.path.join(outdir, 'cards.html')\n",
    "    format_cards_to_html(cards, col, outpath)\n",
    "\n",
    "    # Fetch all notes (cards content) in the collection\n",
    "    # print(\"\\nNotes in collection:\")\n",
    "    # for note_id in col.db.list(\"select id from notes\"):\n",
    "    #     note = col.get_note(note_id)\n",
    "    #     fields = note.fields\n",
    "    #     print(f\"Note ID: {note_id}, Fields: {fields}\")\n",
    "\n",
    "    # # Fetch all cards (metadata) in the collection\n",
    "    # print(\"\\nCards in collection:\")\n",
    "    # for card_id in col.db.list(\"select id from cards\"):\n",
    "    #     card = col.get_card(card_id)\n",
    "    #     print(f\"Card ID: {card.id}, Note ID: {card.nid}, Deck ID: {card.did}, Type: {card.type}\")\n",
    "\n",
    "    \n",
    "except Exception as e:\n",
    "    print(f\"Error: {e}\")\n",
    "finally:\n",
    "    # Close the collection\n",
    "    col.close()\n",
    "\n",
    "col.close()"
   ]
  },
  {
   "cell_type": "code",
   "execution_count": null,
   "metadata": {},
   "outputs": [],
   "source": []
  }
 ],
 "metadata": {
  "kernelspec": {
   "display_name": "Python 3",
   "language": "python",
   "name": "python3"
  },
  "language_info": {
   "codemirror_mode": {
    "name": "ipython",
    "version": 3
   },
   "file_extension": ".py",
   "mimetype": "text/x-python",
   "name": "python",
   "nbconvert_exporter": "python",
   "pygments_lexer": "ipython3",
   "version": "3.9.5"
  }
 },
 "nbformat": 4,
 "nbformat_minor": 2
}
