{
 "cells": [
  {
   "cell_type": "code",
   "execution_count": 1,
   "metadata": {},
   "outputs": [
    {
     "name": "stdout",
     "output_type": "stream",
     "text": [
      "Extracted files to /Users/AlexG/Downloads/极品GRE红宝书.apkg-decompress\n",
      "Decks in collection:\n",
      "Deck ID: 1685695741424, Name: 极品GRE红宝书\n",
      "Deck ID: 1, Name: Default\n"
     ]
    }
   ],
   "source": [
    "# extract package\n",
    "import sqlite3\n",
    "import anki\n",
    "from anki.collection import Collection\n",
    "import re\n",
    "import os\n",
    "import zipfile\n",
    "import termcolor\n",
    "import tqdm\n",
    "import csv\n",
    "import json\n",
    "import shutil\n",
    "import pickle\n",
    "# import pandas as pd\n",
    "import editdistance\n",
    "\n",
    "EDICT_PATH = '/Users/AlexG/Documents/GitHub/mindmaps/anki_tools/data/ecdict.csv'\n",
    "MEDIA_FOLDER = '/Users/AlexG/Library/Application Support/Anki2/User 1/collection.media'\n",
    "PKG_PATH = '/Users/AlexG/Downloads/MyPaperNotes.apkg'\n",
    "PKG_PATH = '/Users/AlexG/Downloads/ivl10.apkg'\n",
    "PKG_PATH = '/Users/AlexG/Downloads/极品GRE红宝书.apkg'\n",
    "DATA_PATH = '/Users/AlexG/Documents/GitHub/mindmaps/anki_tools/data'\n",
    "outdir = PKG_PATH + '-decompress'\n",
    "# outdir = '/Users/AlexG/Downloads/ivl10-decompress'\n",
    "# ANKI2_PATH = '/Users/AlexG/Downloads/ivl10-decompress/collection.anki2'\n",
    "ANKI21_PATH = outdir + '/collection.anki21'\n",
    "# EXPORT_PATH_WEBSITE = '/Users/AlexG/Documents/GitHub/typingpractices/website/onepager/onepager/templates/onepager/cards.html'\n",
    "EXPORT_PATH_WEBSITE = '/Users/AlexG/Documents/GitHub/anki_html/docs/gre_cards.html'\n",
    "\n",
    "def unzip_anki(pkg_file_path, outdir):\n",
    "    # Create the extract directory if it doesn't exist\n",
    "    os.makedirs(outdir, exist_ok=True)\n",
    "\n",
    "    # Unzip the .apkg file\n",
    "    with zipfile.ZipFile(PKG_PATH, 'r') as zip_ref:\n",
    "        zip_ref.extractall(outdir)\n",
    "\n",
    "    print(f\"Extracted files to {outdir}\")\n",
    "\n",
    "unzip_anki(PKG_PATH, outdir)\n",
    "col = Collection(ANKI21_PATH)\n",
    "# Fetch all decks in the collection\n",
    "decks = col.decks.all()\n",
    "print(\"Decks in collection:\")\n",
    "for deck in decks:\n",
    "    print(f\"Deck ID: {deck['id']}, Name: {deck['name']}\")\n",
    "# query = 'prop:ivl<=30'\n",
    "cards = col.find_cards('')\n"
   ]
  },
  {
   "cell_type": "code",
   "execution_count": 10,
   "metadata": {},
   "outputs": [
    {
     "name": "stderr",
     "output_type": "stream",
     "text": [
      "100%|██████████| 7513/7513 [00:02<00:00, 2862.80it/s]\n"
     ]
    },
    {
     "data": {
      "text/plain": [
       "time.struct_time(tm_year=2025, tm_mon=2, tm_mday=5, tm_hour=20, tm_min=54, tm_sec=8, tm_wday=2, tm_yday=36, tm_isdst=0)"
      ]
     },
     "execution_count": 10,
     "metadata": {},
     "output_type": "execute_result"
    }
   ],
   "source": [
    "import time\n",
    "def get_lastest_review_time(col, cards):\n",
    "    rev_times = []\n",
    "    for card in tqdm.tqdm(cards):\n",
    "        timestamp_ms = col.db.scalar(\n",
    "            \"SELECT max(id) FROM revlog WHERE cid = {} AND type IN (1, 3)\".format(card)\n",
    "        )\n",
    "        rev_times.append(timestamp_ms)\n",
    "    mt = max(rev_times)\n",
    "    return time.localtime(mt/1000)\n",
    "\n",
    "len(cards)\n",
    "cards[0:10]\n",
    "rev_times = []\n",
    "for card in tqdm.tqdm(cards):\n",
    "    timestamp_ms = col.db.scalar(\n",
    "        \"SELECT max(id) FROM revlog WHERE cid = {} AND type IN (1, 3)\".format(card)\n",
    "    )\n",
    "    rev_times.append(timestamp_ms)\n",
    "    # print('last review time: {}'.format(time.localtime(timestamp_ms/1000)))\n",
    "mt = max(rev_times)\n",
    "time.localtime(mt/1000)"
   ]
  },
  {
   "cell_type": "code",
   "execution_count": 11,
   "metadata": {},
   "outputs": [],
   "source": [
    "col.close()"
   ]
  },
  {
   "cell_type": "code",
   "execution_count": null,
   "metadata": {},
   "outputs": [],
   "source": [
    "\n",
    "# top 3 cards by ivl\n",
    "data = []\n",
    "for cid in tqdm.tqdm(cards):\n",
    "    card = col.get_card(cid)\n",
    "    note = card.note()\n",
    "    timestamp_ms = col.db.scalar(\n",
    "        \"SELECT max(id) FROM revlog WHERE cid = ? AND type IN (1, 3)\",\n",
    "        (1,)\n",
    "    )\n",
    "    print(f\"Timestamp: {timestamp_ms}\")\n",
    "    import pdb\n",
    "    pdb.set_trace()\n",
    "    fields = note.fields\n",
    "    data.append((card.ivl, fields))\n",
    "data.sort()\n",
    "for ivl, c in data[:3]:\n",
    "    print(termcolor.colored('[ivl={}]'.format(ivl), 'red'), \n",
    "            termcolor.colored('{}'.format(c), 'green'))\n",
    "\n",
    "col.close()"
   ]
  }
 ],
 "metadata": {
  "kernelspec": {
   "display_name": "devenv",
   "language": "python",
   "name": "python3"
  },
  "language_info": {
   "codemirror_mode": {
    "name": "ipython",
    "version": 3
   },
   "file_extension": ".py",
   "mimetype": "text/x-python",
   "name": "python",
   "nbconvert_exporter": "python",
   "pygments_lexer": "ipython3",
   "version": "3.9.5"
  }
 },
 "nbformat": 4,
 "nbformat_minor": 2
}
